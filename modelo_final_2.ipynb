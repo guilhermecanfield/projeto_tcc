version https://git-lfs.github.com/spec/v1
oid sha256:6ba18586dea8e9798c709d1bb8b6480828edd9ab4c6eb8e88ddd5db8534b3d6c
size 51821
