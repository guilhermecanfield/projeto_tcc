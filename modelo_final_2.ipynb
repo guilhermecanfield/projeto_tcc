version https://git-lfs.github.com/spec/v1
oid sha256:9fe8cfa67094d35f4d48e33f423a149650e2118aab8faabc01a0ff0e8b331106
size 406203
