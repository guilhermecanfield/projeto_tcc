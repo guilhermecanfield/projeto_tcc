version https://git-lfs.github.com/spec/v1
oid sha256:f85a34f132f90b3d7b489164b23842e3eb058578ffa8165c230a90a3dcf186c1
size 18189
