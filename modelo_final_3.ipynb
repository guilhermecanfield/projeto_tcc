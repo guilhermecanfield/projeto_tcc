version https://git-lfs.github.com/spec/v1
oid sha256:287f71b3952b5d2724fa68cc809da1eaeec34ccf0f58abd8fdc5cdfc72b43ae9
size 52321
