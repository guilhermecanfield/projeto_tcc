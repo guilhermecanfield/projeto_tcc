version https://git-lfs.github.com/spec/v1
oid sha256:4bbfbbaa38933f61860989e7220487a744ebbfb4be6185a5bb448d4799e018e6
size 55277
