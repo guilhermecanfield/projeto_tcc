version https://git-lfs.github.com/spec/v1
oid sha256:50be303d6e1785f6e43be00cfd54e3a6f3d19609894bb2256e6e4c277ff22819
size 30064
