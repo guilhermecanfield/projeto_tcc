version https://git-lfs.github.com/spec/v1
oid sha256:853d2e5684bcac8ab3347b36ac71821208c91113bf7cfa4f3c780418985b5fa4
size 71963
