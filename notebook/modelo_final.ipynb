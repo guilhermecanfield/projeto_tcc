version https://git-lfs.github.com/spec/v1
oid sha256:9d5c583b4dbfd38eb5394071674a286bf7895788d42b42c3e3dd6f86beb10434
size 47553
